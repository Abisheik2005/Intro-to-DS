{
  "nbformat": 4,
  "nbformat_minor": 0,
  "metadata": {
    "colab": {
      "provenance": []
    },
    "kernelspec": {
      "name": "python3",
      "display_name": "Python 3"
    },
    "language_info": {
      "name": "python"
    }
  },
  "cells": [
    {
      "cell_type": "code",
      "execution_count": null,
      "metadata": {
        "id": "xqPVKEkCrX_u"
      },
      "outputs": [],
      "source": [
        "import numpy as np\n",
        "import pandas as pd"
      ]
    },
    {
      "cell_type": "code",
      "source": [
        "exam_data = {\n",
        "    'name': ['Anastasia', 'Dima', 'Katherine', 'James', 'Emily', 'Michael', 'Matthew', 'Laura', 'Kevin', 'Jonas'],\n",
        "    'score': [12.5, 9, 16.5, np.nan, 9, 20, 14.5, np.nan, 8, 19],\n",
        "    'attempts': [1, 3, 4, 3, 5, 3, 6, 1, 7, 1]\n",
        "}"
      ],
      "metadata": {
        "id": "wxyuhGm9rvpY"
      },
      "execution_count": null,
      "outputs": []
    },
    {
      "cell_type": "code",
      "source": [
        "df=pd.DataFrame(exam_data)"
      ],
      "metadata": {
        "id": "ZcE46KKDuRGb"
      },
      "execution_count": null,
      "outputs": []
    },
    {
      "cell_type": "code",
      "source": [
        "selected_columns=df[['name','score']]"
      ],
      "metadata": {
        "id": "XnIOuo57ujuh"
      },
      "execution_count": null,
      "outputs": []
    },
    {
      "cell_type": "code",
      "source": [
        "print(selected_columns)"
      ],
      "metadata": {
        "colab": {
          "base_uri": "https://localhost:8080/"
        },
        "id": "OL6XXP3qu5oe",
        "outputId": "5b467e79-dbd6-4147-831e-685d11a8a00a"
      },
      "execution_count": null,
      "outputs": [
        {
          "output_type": "stream",
          "name": "stdout",
          "text": [
            "        name  score\n",
            "0  Anastasia   12.5\n",
            "1       Dima    9.0\n",
            "2  Katherine   16.5\n",
            "3      James    NaN\n",
            "4      Emily    9.0\n",
            "5    Michael   20.0\n",
            "6    Matthew   14.5\n",
            "7      Laura    NaN\n",
            "8      Kevin    8.0\n",
            "9      Jonas   19.0\n"
          ]
        }
      ]
    },
    {
      "cell_type": "code",
      "source": [
        "select=df[df['attempts']>3]\n",
        "print(select)"
      ],
      "metadata": {
        "colab": {
          "base_uri": "https://localhost:8080/"
        },
        "id": "3F3dtGB7vZwt",
        "outputId": "63cf0641-5c34-4f55-ecb9-243edbd7c76a"
      },
      "execution_count": null,
      "outputs": [
        {
          "output_type": "stream",
          "name": "stdout",
          "text": [
            "        name  score  attempts\n",
            "2  Katherine   16.5         4\n",
            "4      Emily    9.0         5\n",
            "6    Matthew   14.5         6\n",
            "8      Kevin    8.0         7\n"
          ]
        }
      ]
    },
    {
      "cell_type": "code",
      "source": [
        "data = {\n",
        " 'name': ['Alice', 'Bob', 'Charlie', 'Dave'],\n",
        " 'age': [25, 35, 40, 28],\n",
        "\n",
        " 'gender': ['F', 'M', 'M', 'M'],\n",
        "\n",
        " 'salary': [50000, 70000, 60000, 80000]}\n"
      ],
      "metadata": {
        "id": "s2beoOGbwMwL"
      },
      "execution_count": null,
      "outputs": []
    },
    {
      "cell_type": "code",
      "source": [
        "df=pd.DataFrame(data)"
      ],
      "metadata": {
        "id": "BQ5nYHSmwlzy"
      },
      "execution_count": null,
      "outputs": []
    },
    {
      "cell_type": "code",
      "source": [
        "selected_rows=df[df['age']>30]\n",
        "print(selected_rows)"
      ],
      "metadata": {
        "colab": {
          "base_uri": "https://localhost:8080/"
        },
        "id": "EWzft2aDxB1h",
        "outputId": "b4721882-4845-4203-b16b-8d89348e1ac5"
      },
      "execution_count": null,
      "outputs": [
        {
          "output_type": "stream",
          "name": "stdout",
          "text": [
            "      name  age gender  salary\n",
            "1      Bob   35      M   70000\n",
            "2  Charlie   40      M   60000\n"
          ]
        }
      ]
    },
    {
      "cell_type": "code",
      "source": [
        "selected_name = df[df['name'].str.contains('e',case=False,na=False)]\n",
        "print(selected_name)"
      ],
      "metadata": {
        "colab": {
          "base_uri": "https://localhost:8080/"
        },
        "id": "RcbzgO27xtkq",
        "outputId": "962a4b47-a793-4ae2-d499-7ab09b8046d2"
      },
      "execution_count": null,
      "outputs": [
        {
          "output_type": "stream",
          "name": "stdout",
          "text": [
            "      name  age gender  salary\n",
            "0    Alice   25      F   50000\n",
            "2  Charlie   40      M   60000\n",
            "3     Dave   28      M   80000\n"
          ]
        }
      ]
    },
    {
      "cell_type": "code",
      "source": [
        "selected_salary=df[(df['gender']=='M') & (df['salary']>65000)]\n",
        "print(selected_salary)"
      ],
      "metadata": {
        "colab": {
          "base_uri": "https://localhost:8080/"
        },
        "id": "bhlpfia-yftL",
        "outputId": "fa7a401c-a652-4f55-b288-87e9fab5e3d6"
      },
      "execution_count": null,
      "outputs": [
        {
          "output_type": "stream",
          "name": "stdout",
          "text": [
            "   name  age gender  salary\n",
            "1   Bob   35      M   70000\n",
            "3  Dave   28      M   80000\n"
          ]
        }
      ]
    },
    {
      "cell_type": "code",
      "source": [
        "selected_columns=df[['name','age']]\n",
        "print(selected_columns)"
      ],
      "metadata": {
        "colab": {
          "base_uri": "https://localhost:8080/"
        },
        "id": "HFFz8lN5zk-L",
        "outputId": "0c58099b-20e0-4b2f-8b40-a1db61787580"
      },
      "execution_count": null,
      "outputs": [
        {
          "output_type": "stream",
          "name": "stdout",
          "text": [
            "      name  age\n",
            "0    Alice   25\n",
            "1      Bob   35\n",
            "2  Charlie   40\n",
            "3     Dave   28\n"
          ]
        }
      ]
    }
  ]
}